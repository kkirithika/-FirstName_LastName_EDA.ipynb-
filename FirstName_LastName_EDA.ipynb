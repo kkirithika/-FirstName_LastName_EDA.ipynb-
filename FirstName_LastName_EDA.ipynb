import pandas as pd
import matplotlib.pyplot as plt
import seaborn as sns

# Load the datasets
customers = pd.read_csv("Customers.csv")
products = pd.read_csv("Products.csv")
transactions = pd.read_csv("Transactions.csv")

# Display basic information
print("Customers Info:")
print(customers.info())
print("\nProducts Info:")
print(products.info())
print("\nTransactions Info:")
print(transactions.info())

# Check for missing values
print("\nMissing Values:")
print(customers.isnull().sum())
print(products.isnull().sum())
print(transactions.isnull().sum())

# Summary statistics
print("\nSummary Statistics:")
print(transactions.describe())

# Merge datasets for analysis
merged_df = transactions.merge(customers, on='CustomerID').merge(products, on='ProductID')

# Top 5 customers by transaction value
top_customers = merged_df.groupby("CustomerID")["TotalValue"].sum().sort_values(ascending=False).head(5)
print("\nTop 5 Customers by Transaction Value:")
print(top_customers)

# Most popular products
popular_products = merged_df["ProductName"].value_counts().head(5)
print("\nMost Popular Products:")
print(popular_products)

# Revenue by region
revenue_by_region = merged_df.groupby("Region")["TotalValue"].sum()
print("\nRevenue by Region:")
print(revenue_by_region)

# Visualization
plt.figure(figsize=(10, 5))
sns.barplot(x=top_customers.index, y=top_customers.values)
plt.title("Top 5 Customers by Transaction Value")
plt.xlabel("CustomerID")
plt.ylabel("Total Transaction Value")
plt.show()

plt.figure(figsize=(10, 5))
sns.barplot(x=popular_products.index, y=popular_products.values)
plt.title("Top 5 Most Purchased Products")
plt.xlabel("Product Name")
plt.ylabel("Number of Purchases")
plt.xticks(rotation=45)
plt.show()

plt.figure(figsize=(10, 5))
sns.barplot(x=revenue_by_region.index, y=revenue_by_region.values)
plt.title("Revenue by Region")
plt.xlabel("Region")
plt.ylabel("Total Revenue")
plt.xticks(rotation=45)
plt.show()
